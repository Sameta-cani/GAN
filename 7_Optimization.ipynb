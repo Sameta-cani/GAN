{
 "cells": [
  {
   "cell_type": "markdown",
   "metadata": {},
   "source": [
    "# OPTIMIZATION MODEL PARAMETERS"
   ]
  },
  {
   "cell_type": "markdown",
   "metadata": {},
   "source": [
    "Now that we have a model and data it's time to train, validate and test our model by optimizing its parameters on our data. Training a model is an iterative process; in each iteration the model makes a guess about the output, calculates the error in its guess (*loss*), collects the derivatives of the error with respect to its parameters (as we saw in the previous section), and **optimizes** these parameters using gradient descent. For a more detailed walkthrough of this process, check out this vedio on backpropagation from 3Blue1Brown."
   ]
  },
  {
   "cell_type": "markdown",
   "metadata": {},
   "source": [
    "## Prerequisite Code"
   ]
  },
  {
   "cell_type": "markdown",
   "metadata": {},
   "source": [
    "We load the code from the previous sections on Datasets & DataLoaders and Build Model."
   ]
  },
  {
   "cell_type": "code",
   "execution_count": 2,
   "metadata": {},
   "outputs": [],
   "source": [
    "import torch\n",
    "from torch import nn\n",
    "from torch.utils.data import DataLoader\n",
    "from torchvision import datasets\n",
    "from torchvision.transforms import ToTensor\n",
    "\n",
    "training_data = datasets.FashionMNIST(\n",
    "    root=\"data\",\n",
    "    train=True,\n",
    "    download=True,\n",
    "    transform=ToTensor()\n",
    ")\n",
    "\n",
    "test_data = datasets.FashionMNIST(\n",
    "    root=\"data\",\n",
    "    train=False,\n",
    "    download=True,\n",
    "    transform=ToTensor()\n",
    ")\n",
    "\n",
    "train_dataloader = DataLoader(training_data, batch_size=64)\n",
    "test_dataloader = DataLoader(test_data, batch_size=64)\n",
    "\n",
    "class NeuralNetwork(nn.Module):\n",
    "    def __init__(self):\n",
    "        super().__init__()\n",
    "        self.flatten = nn.Flatten()\n",
    "        self.linear_relu_stack = nn.Sequential(\n",
    "            nn.Linear(in_features=28*28, out_features=512),\n",
    "            nn.ReLU(),\n",
    "            nn.Linear(in_features=512, out_features=512),\n",
    "            nn.ReLU(),\n",
    "            nn.Linear(in_features=512, out_features=10),\n",
    "        )\n",
    "\n",
    "    def forward(self, x):\n",
    "        x = self.flatten(x)\n",
    "        logits = self.linear_relu_stack(x)\n",
    "        return logits\n",
    "    \n",
    "model = NeuralNetwork()"
   ]
  },
  {
   "cell_type": "markdown",
   "metadata": {},
   "source": [
    "## Hyperparameters"
   ]
  },
  {
   "cell_type": "markdown",
   "metadata": {},
   "source": [
    "Hyperparameters are adjustable parameters that let you control the model optimization process. Different hyperparameter values can impact model training and convergence rates (read more about hyperparameter tuning)"
   ]
  },
  {
   "cell_type": "markdown",
   "metadata": {},
   "source": [
    "We define the following hyperparameters for training:\n",
    "- **Number of Epochs** - the number times to iterate over the dataset\n",
    "- **Batch Size** - the number of data samples propagated through the network before the parameters are updated\n",
    "- **Learning Rate** - how much to update models parameters at each batch/epoch. Smaller values yield slow learning speed, while large values may result in unpredictable behavior during training."
   ]
  },
  {
   "cell_type": "code",
   "execution_count": 3,
   "metadata": {},
   "outputs": [],
   "source": [
    "learning_rate = 1e-3\n",
    "batch_size = 64\n",
    "epochs = 5"
   ]
  },
  {
   "cell_type": "markdown",
   "metadata": {},
   "source": [
    "## Optimization Loop"
   ]
  },
  {
   "cell_type": "markdown",
   "metadata": {},
   "source": [
    "Once we set our hyperparameters, we can then train and optimize our model with an optimization loop. Each iteration of the optimization loop is called an **epoch**."
   ]
  },
  {
   "cell_type": "markdown",
   "metadata": {},
   "source": [
    "Each epoch consists of two main parts:\n",
    "- **The Train Loop** - iterate over the training dataset and try to converge to optimal parameters.\n",
    "- **The Validation/Test Loop** - iterate over the test dataset to check if model performance is improving."
   ]
  },
  {
   "cell_type": "markdown",
   "metadata": {},
   "source": [
    "Let's briefly familiarize ourseleves with some of the concepts used in the training loop. Jump ahead to see the Full Implementation of the optimization loop."
   ]
  },
  {
   "cell_type": "markdown",
   "metadata": {},
   "source": [
    "### Loss Function"
   ]
  },
  {
   "cell_type": "markdown",
   "metadata": {},
   "source": [
    "When presented with some training data, our untrained network is likely not to give the correct answer. **Loss function** measures the degree of dissimilarity of obtained result to the target value, and it is the loss function that we want to minimize during training. To calculate the loss we make a prediction using the inputs of our given data sample and compare it against the true data label value."
   ]
  },
  {
   "cell_type": "markdown",
   "metadata": {},
   "source": [
    "Common loss functions include `nn.MSELoss` (Mean Square Error) for regression tasks, and `nn.NLLLoss` (Negative Log Likelihood) for classification. `nn.CrossEntropyLoss` combines `nn.LogSoftmax` and `nn.NLLLoss`."
   ]
  },
  {
   "cell_type": "markdown",
   "metadata": {},
   "source": [
    "We pass our model's output logits to `nn.CrossEntropyLoss`, which will normalize the logits and compute the prediction error."
   ]
  },
  {
   "cell_type": "code",
   "execution_count": 4,
   "metadata": {},
   "outputs": [],
   "source": [
    "# Initialize the loss function\n",
    "loss_fn = nn.CrossEntropyLoss()"
   ]
  },
  {
   "cell_type": "markdown",
   "metadata": {},
   "source": [
    "### Optimizer"
   ]
  },
  {
   "cell_type": "markdown",
   "metadata": {},
   "source": [
    "Optimization is the process of adjusting model parameters to reduce model error in each training step. **Optimization algorithms** define how this process is performed (in this example we use Stochastic Gradient Descent). All optimization logic is encapsulated in the `optimization` object. Here, we use the SGD optimizer; additionally, there are many different optimizers available in PyTorch such as ADAM and RMSProp, that work better for different kinds of models and data."
   ]
  },
  {
   "cell_type": "markdown",
   "metadata": {},
   "source": [
    "We initialize the optimizer by registering the model's parameters that need to be trained, and passing in the learning rate hyperparameter."
   ]
  },
  {
   "cell_type": "code",
   "execution_count": 5,
   "metadata": {},
   "outputs": [],
   "source": [
    "optimizer = torch.optim.SGD(model.parameters(), lr=learning_rate)"
   ]
  },
  {
   "cell_type": "markdown",
   "metadata": {},
   "source": [
    "Inside the training loop, optimization happens in three steps:\n",
    "- Call `optimizer.zero_grad()` to reset the gradients of model parameters. Gradients by default add up; to prevent double-counting, we explicitly zero them at each iteration.\n",
    "- Backpropagate the prediction loss with a call to `loss.backward()`. PyTorch deposits the gradients of the loss w.r.t each parameter.\n",
    "- Once we have our gradients, we call `optimizer.step()` to adjust the parameters by the gradients collected in the backward pass."
   ]
  },
  {
   "cell_type": "markdown",
   "metadata": {},
   "source": [
    "## Full Implementation"
   ]
  },
  {
   "cell_type": "markdown",
   "metadata": {},
   "source": [
    "We define `train_loop` that loops over our optimization code, and `test_loop` that evaluates the model's performance against our test data."
   ]
  },
  {
   "cell_type": "code",
   "execution_count": 8,
   "metadata": {},
   "outputs": [],
   "source": [
    "def train_loop(dataloader, model, loss_fn, optimizer):\n",
    "    size = len(dataloader.dataset)\n",
    "    # Set the model to training mode - important for batch normalization and dropout layers\n",
    "    # Unnecessary in this situation but added for best practices\n",
    "    model.train()\n",
    "    for batch, (X, y) in enumerate(dataloader):\n",
    "        # Compute prediction and loss\n",
    "        pred = model(X)\n",
    "        loss = loss_fn(pred, y)\n",
    "\n",
    "        # Backpropagation\n",
    "        loss.backward()\n",
    "        optimizer.step()\n",
    "        optimizer.zero_grad()\n",
    "\n",
    "        if batch % 100 == 0:\n",
    "            loss, current = loss.item(), (batch + 1) * len(X)\n",
    "            print(f\"loss: {loss:>7f}  [{current:>5d}/{size:>5d}]\")\n",
    "\n",
    "\n",
    "def test_loop(dataloader, model, loss_fn):\n",
    "    # Set the model to evaluation mode - important for batch normalization and dropout layers\n",
    "    # Unnecessary in this situation but added for best practices\n",
    "    model.eval()\n",
    "    size = len(dataloader.dataset)\n",
    "    num_batches = len(dataloader)\n",
    "    test_loss, correct = 0, 0\n",
    "\n",
    "    # Evaluating the model with torch.no_grad() ensures that no gradients are computed during test mode\n",
    "    # also serves to reduce unnecessary gradient computations and memory usage for tensors with requires_grad=True\n",
    "    with torch.no_grad():\n",
    "        for X, y in dataloader:\n",
    "            pred = model(X)\n",
    "            test_loss += loss_fn(pred, y).item()\n",
    "            correct += (pred.argmax(1) == y).type(torch.float).sum().item()\n",
    "\n",
    "    test_loss /= num_batches\n",
    "    correct /= size\n",
    "    print(f\"Test Error: \\n Accuracy: {(100*correct):>0.1f}%, Avg loss: {test_loss:>8f} \\n\")"
   ]
  },
  {
   "cell_type": "markdown",
   "metadata": {},
   "source": [
    "We initialize the loss function and optimizer, and pass it to `train_loop` and `test_loop`. Feel free to increase the number of epochs to track the model's improving performance."
   ]
  },
  {
   "cell_type": "code",
   "execution_count": 9,
   "metadata": {},
   "outputs": [
    {
     "name": "stdout",
     "output_type": "stream",
     "text": [
      "Epoch 1\n",
      "-------------------------------\n",
      "loss: 2.304772  [   64/60000]\n",
      "loss: 2.282789  [ 6464/60000]\n",
      "loss: 2.272555  [12864/60000]\n",
      "loss: 2.257835  [19264/60000]\n",
      "loss: 2.247023  [25664/60000]\n",
      "loss: 2.234039  [32064/60000]\n",
      "loss: 2.220026  [38464/60000]\n",
      "loss: 2.199142  [44864/60000]\n",
      "loss: 2.194958  [51264/60000]\n",
      "loss: 2.160949  [57664/60000]\n",
      "Test Error: \n",
      " Accuracy: 52.3%, Avg loss: 2.149664 \n",
      "\n",
      "Epoch 2\n",
      "-------------------------------\n",
      "loss: 2.164059  [   64/60000]\n",
      "loss: 2.141538  [ 6464/60000]\n",
      "loss: 2.090836  [12864/60000]\n",
      "loss: 2.096245  [19264/60000]\n",
      "loss: 2.051224  [25664/60000]\n",
      "loss: 2.011456  [32064/60000]\n",
      "loss: 2.014814  [38464/60000]\n",
      "loss: 1.948197  [44864/60000]\n",
      "loss: 1.945905  [51264/60000]\n",
      "loss: 1.876411  [57664/60000]\n",
      "Test Error: \n",
      " Accuracy: 58.2%, Avg loss: 1.864861 \n",
      "\n",
      "Epoch 3\n",
      "-------------------------------\n",
      "loss: 1.903360  [   64/60000]\n",
      "loss: 1.861062  [ 6464/60000]\n",
      "loss: 1.748559  [12864/60000]\n",
      "loss: 1.779578  [19264/60000]\n",
      "loss: 1.680303  [25664/60000]\n",
      "loss: 1.649705  [32064/60000]\n",
      "loss: 1.652172  [38464/60000]\n",
      "loss: 1.566359  [44864/60000]\n",
      "loss: 1.584261  [51264/60000]\n",
      "loss: 1.480329  [57664/60000]\n",
      "Test Error: \n",
      " Accuracy: 61.1%, Avg loss: 1.494976 \n",
      "\n",
      "Epoch 4\n",
      "-------------------------------\n",
      "loss: 1.564837  [   64/60000]\n",
      "loss: 1.526177  [ 6464/60000]\n",
      "loss: 1.383265  [12864/60000]\n",
      "loss: 1.444720  [19264/60000]\n",
      "loss: 1.333873  [25664/60000]\n",
      "loss: 1.341214  [32064/60000]\n",
      "loss: 1.341811  [38464/60000]\n",
      "loss: 1.279306  [44864/60000]\n",
      "loss: 1.311129  [51264/60000]\n",
      "loss: 1.207512  [57664/60000]\n",
      "Test Error: \n",
      " Accuracy: 63.1%, Avg loss: 1.236442 \n",
      "\n",
      "Epoch 5\n",
      "-------------------------------\n",
      "loss: 1.314091  [   64/60000]\n",
      "loss: 1.295615  [ 6464/60000]\n",
      "loss: 1.140340  [12864/60000]\n",
      "loss: 1.231248  [19264/60000]\n",
      "loss: 1.114145  [25664/60000]\n",
      "loss: 1.145541  [32064/60000]\n",
      "loss: 1.157369  [38464/60000]\n",
      "loss: 1.106404  [44864/60000]\n",
      "loss: 1.144354  [51264/60000]\n",
      "loss: 1.054087  [57664/60000]\n",
      "Test Error: \n",
      " Accuracy: 64.9%, Avg loss: 1.079057 \n",
      "\n",
      "Epoch 6\n",
      "-------------------------------\n",
      "loss: 1.150232  [   64/60000]\n",
      "loss: 1.151725  [ 6464/60000]\n",
      "loss: 0.982182  [12864/60000]\n",
      "loss: 1.100029  [19264/60000]\n",
      "loss: 0.982229  [25664/60000]\n",
      "loss: 1.016383  [32064/60000]\n",
      "loss: 1.046027  [38464/60000]\n",
      "loss: 0.998849  [44864/60000]\n",
      "loss: 1.036793  [51264/60000]\n",
      "loss: 0.959990  [57664/60000]\n",
      "Test Error: \n",
      " Accuracy: 66.2%, Avg loss: 0.978256 \n",
      "\n",
      "Epoch 7\n",
      "-------------------------------\n",
      "loss: 1.036792  [   64/60000]\n",
      "loss: 1.058419  [ 6464/60000]\n",
      "loss: 0.873936  [12864/60000]\n",
      "loss: 1.013248  [19264/60000]\n",
      "loss: 0.900633  [25664/60000]\n",
      "loss: 0.924737  [32064/60000]\n",
      "loss: 0.972803  [38464/60000]\n",
      "loss: 0.928561  [44864/60000]\n",
      "loss: 0.961250  [51264/60000]\n",
      "loss: 0.896305  [57664/60000]\n",
      "Test Error: \n",
      " Accuracy: 67.2%, Avg loss: 0.908753 \n",
      "\n",
      "Epoch 8\n",
      "-------------------------------\n",
      "loss: 0.953115  [   64/60000]\n",
      "loss: 0.992761  [ 6464/60000]\n",
      "loss: 0.795481  [12864/60000]\n",
      "loss: 0.951195  [19264/60000]\n",
      "loss: 0.846066  [25664/60000]\n",
      "loss: 0.856042  [32064/60000]\n",
      "loss: 0.920435  [38464/60000]\n",
      "loss: 0.881123  [44864/60000]\n",
      "loss: 0.905527  [51264/60000]\n",
      "loss: 0.849043  [57664/60000]\n",
      "Test Error: \n",
      " Accuracy: 68.3%, Avg loss: 0.857660 \n",
      "\n",
      "Epoch 9\n",
      "-------------------------------\n",
      "loss: 0.888399  [   64/60000]\n",
      "loss: 0.942631  [ 6464/60000]\n",
      "loss: 0.735493  [12864/60000]\n",
      "loss: 0.904102  [19264/60000]\n",
      "loss: 0.806386  [25664/60000]\n",
      "loss: 0.803385  [32064/60000]\n",
      "loss: 0.879964  [38464/60000]\n",
      "loss: 0.847289  [44864/60000]\n",
      "loss: 0.862655  [51264/60000]\n",
      "loss: 0.811435  [57664/60000]\n",
      "Test Error: \n",
      " Accuracy: 69.8%, Avg loss: 0.818070 \n",
      "\n",
      "Epoch 10\n",
      "-------------------------------\n",
      "loss: 0.835758  [   64/60000]\n",
      "loss: 0.901916  [ 6464/60000]\n",
      "loss: 0.687835  [12864/60000]\n",
      "loss: 0.867097  [19264/60000]\n",
      "loss: 0.775297  [25664/60000]\n",
      "loss: 0.761986  [32064/60000]\n",
      "loss: 0.846778  [38464/60000]\n",
      "loss: 0.821732  [44864/60000]\n",
      "loss: 0.828683  [51264/60000]\n",
      "loss: 0.780097  [57664/60000]\n",
      "Test Error: \n",
      " Accuracy: 71.0%, Avg loss: 0.786105 \n",
      "\n",
      "Done!\n"
     ]
    }
   ],
   "source": [
    "loss_fn = nn.CrossEntropyLoss()\n",
    "optimizer = torch.optim.SGD(model.parameters(), lr=learning_rate)\n",
    "\n",
    "epochs = 10\n",
    "for t in range(epochs):\n",
    "    print(f\"Epoch {t+1}\\n-------------------------------\")\n",
    "    train_loop(train_dataloader, model, loss_fn, optimizer)\n",
    "    test_loop(test_dataloader, model, loss_fn)\n",
    "print(\"Done!\")"
   ]
  }
 ],
 "metadata": {
  "kernelspec": {
   "display_name": "myenv",
   "language": "python",
   "name": "myenv"
  },
  "language_info": {
   "codemirror_mode": {
    "name": "ipython",
    "version": 3
   },
   "file_extension": ".py",
   "mimetype": "text/x-python",
   "name": "python",
   "nbconvert_exporter": "python",
   "pygments_lexer": "ipython3",
   "version": "3.8.13"
  }
 },
 "nbformat": 4,
 "nbformat_minor": 2
}
