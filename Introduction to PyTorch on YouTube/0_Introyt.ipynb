{
 "cells": [
  {
   "cell_type": "markdown",
   "metadata": {},
   "source": [
    "# INTRODUCTION TO PYTORCH - YOUTUBE SERIES"
   ]
  },
  {
   "cell_type": "markdown",
   "metadata": {},
   "source": [
    "Authors: Brad Heintz\n",
    "\n",
    "This tutorial follows along with the PyTorch Beginner Series on YouTube.\n",
    "\n",
    "*This tutorial assumes a basic familiarity with Python and Deep Learning concepts.*"
   ]
  },
  {
   "cell_type": "markdown",
   "metadata": {},
   "source": [
    "## Running the Tutorial Code"
   ]
  },
  {
   "cell_type": "markdown",
   "metadata": {},
   "source": [
    "You can run this tutorial in a couple of ways:\n",
    "\n",
    "- **In the cloud**: This is the easiest way to get started! Each section has a Colab link at the top, which opens a notebook with the code in a fully-hosted environment. Pro tip: Use Colab with a GPU runtime to speed up operations Runtime > Change runtime type > GPU\n",
    "\n",
    "- **Locally**: This option requires you to setup PyTorch and torchvision first on your local machine (installation instructions). Download the notebook or copy the code into your favorite IDE."
   ]
  },
  {
   "cell_type": "markdown",
   "metadata": {},
   "source": [
    "1. Introduction to PyTorch\n",
    "2. Introduction to PyTorch Tensors\n",
    "3. The Fundamentals of Autograd\n",
    "4. Building Models with PyTorch\n",
    "5. PyTorch TensorBoard Support\n",
    "6. Training with PyTorch\n",
    "7. Model Understanding with Captum"
   ]
  }
 ],
 "metadata": {
  "language_info": {
   "name": "python"
  }
 },
 "nbformat": 4,
 "nbformat_minor": 2
}
